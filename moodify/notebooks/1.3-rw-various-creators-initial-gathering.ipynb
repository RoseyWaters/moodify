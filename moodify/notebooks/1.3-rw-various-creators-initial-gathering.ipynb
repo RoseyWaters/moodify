{
 "cells": [
  {
   "cell_type": "markdown",
   "metadata": {},
   "source": [
    "One last forray into gathering some more lists that aren't spotify created. Using Chartmetric to gather up some larger users, you can then grab all the playlists that were created by a user. "
   ]
  },
  {
   "cell_type": "code",
   "execution_count": 6,
   "metadata": {},
   "outputs": [],
   "source": [
    "# imports\n",
    "import spotipy\n",
    "import spotipy.util as util\n",
    "import types\n",
    "import requests\n",
    "import json\n",
    "import csv\n",
    "import pandas as pd"
   ]
  },
  {
   "cell_type": "code",
   "execution_count": 7,
   "metadata": {},
   "outputs": [],
   "source": [
    "# authorization\n",
    "token = util.prompt_for_user_token(\n",
    "        username=\"rosey.waters@gmail.com\",\n",
    "        scope=\"user-read-recently-played user-read-private user-top-read user-read-currently-playing\",\n",
    "        client_id=\"e7b1f1096c82471d89d1db8030b82dd9\",\n",
    "        client_secret=\"5e635c87338b4729bc9a8bd007c2cbe1\",\n",
    "        redirect_uri=\"https://www.google.it/\")\n",
    "\n",
    "spotify = spotipy.Spotify(auth=token)"
   ]
  },
  {
   "cell_type": "code",
   "execution_count": 21,
   "metadata": {},
   "outputs": [],
   "source": [
    "user_ids = ['starbucks',\n",
    "            'a902190',\n",
    "            'sonymusicentertainment',\n",
    "            'digster.fm',\n",
    "            'sanik007',\n",
    "            'billboard.com',\n",
    "            'now-music',\n",
    "            'teage03',\n",
    "            '8ijvp9cn0qzicoyslou0yl7mr',\n",
    "            '125382564',\n",
    "            'warnerfrspotify',\n",
    "            'm6olgsfi9dd03mjhqlekaupiq',\n",
    "            'jdude161717',\n",
    "            'atlastrecords',\n",
    "            'hbisch1',\n",
    "            'spotifycharts',\n",
    "            'spotify']"
   ]
  },
  {
   "cell_type": "code",
   "execution_count": 23,
   "metadata": {},
   "outputs": [],
   "source": [
    "more = []\n",
    "for i in user_ids:\n",
    "    user_url = 'https://api.spotify.com/v1/users/' + i + '/playlists'\n",
    "    \n",
    "    def get_user_playlists(self, limit=1):\n",
    "        return self._get(user_url, limit=limit)\n",
    "\n",
    "    spotify.get_user_playlists = types.MethodType(get_user_playlists, spotify)\n",
    "\n",
    "    user_playlists = spotify.get_user_playlists(limit=50)\n",
    "\n",
    "    data = json.dumps(user_playlists, sort_keys=True, indent=2)\n",
    "\n",
    "    data_parse = json.loads(data)\n",
    "\n",
    "    for item in data_parse['items']:\n",
    "        playlist_name = item['name']\n",
    "        description = item['description']\n",
    "        uri = item['id']\n",
    "        tracks = item['tracks']['total']\n",
    "        total = [ description, uri, playlist_name, tracks]\n",
    "        more.append(total)"
   ]
  },
  {
   "cell_type": "code",
   "execution_count": 24,
   "metadata": {},
   "outputs": [],
   "source": [
    "playlists = pd.DataFrame(data=more, columns = ['description','spotify_id','name','no_tracks']) "
   ]
  },
  {
   "cell_type": "code",
   "execution_count": 25,
   "metadata": {},
   "outputs": [
    {
     "data": {
      "text/html": [
       "<div>\n",
       "<style scoped>\n",
       "    .dataframe tbody tr th:only-of-type {\n",
       "        vertical-align: middle;\n",
       "    }\n",
       "\n",
       "    .dataframe tbody tr th {\n",
       "        vertical-align: top;\n",
       "    }\n",
       "\n",
       "    .dataframe thead th {\n",
       "        text-align: right;\n",
       "    }\n",
       "</style>\n",
       "<table border=\"1\" class=\"dataframe\">\n",
       "  <thead>\n",
       "    <tr style=\"text-align: right;\">\n",
       "      <th></th>\n",
       "      <th>description</th>\n",
       "      <th>spotify_id</th>\n",
       "      <th>name</th>\n",
       "      <th>no_tracks</th>\n",
       "    </tr>\n",
       "  </thead>\n",
       "  <tbody>\n",
       "    <tr>\n",
       "      <th>0</th>\n",
       "      <td>Hey everyone, thanks for finding us! We are ex...</td>\n",
       "      <td>0LPsYH4hIRjLUKXuZd2vAt</td>\n",
       "      <td>Coffeehouse</td>\n",
       "      <td>477</td>\n",
       "    </tr>\n",
       "    <tr>\n",
       "      <th>1</th>\n",
       "      <td>A playlist for when you need a quick burst of ...</td>\n",
       "      <td>3JUf7Sj7OPMHoQSWChbT1c</td>\n",
       "      <td>Starbucks Coffeehouse Pop</td>\n",
       "      <td>411</td>\n",
       "    </tr>\n",
       "    <tr>\n",
       "      <th>2</th>\n",
       "      <td>A playlist representing the quieter side of ou...</td>\n",
       "      <td>6prLaAk2sOPeDpJKY6LZZ9</td>\n",
       "      <td>Starbucks Acoustic</td>\n",
       "      <td>139</td>\n",
       "    </tr>\n",
       "    <tr>\n",
       "      <th>3</th>\n",
       "      <td>Jazz music has long been a staple of our coffe...</td>\n",
       "      <td>2UPjWBRjJqMQY3LRV2aDTS</td>\n",
       "      <td>Starbucks Jazz</td>\n",
       "      <td>270</td>\n",
       "    </tr>\n",
       "    <tr>\n",
       "      <th>4</th>\n",
       "      <td>Every week we add new songs from up-and-coming...</td>\n",
       "      <td>7FoKftIMWTsQSNYcOnKZlu</td>\n",
       "      <td>Starbucks Discovery</td>\n",
       "      <td>36</td>\n",
       "    </tr>\n",
       "  </tbody>\n",
       "</table>\n",
       "</div>"
      ],
      "text/plain": [
       "                                         description              spotify_id  \\\n",
       "0  Hey everyone, thanks for finding us! We are ex...  0LPsYH4hIRjLUKXuZd2vAt   \n",
       "1  A playlist for when you need a quick burst of ...  3JUf7Sj7OPMHoQSWChbT1c   \n",
       "2  A playlist representing the quieter side of ou...  6prLaAk2sOPeDpJKY6LZZ9   \n",
       "3  Jazz music has long been a staple of our coffe...  2UPjWBRjJqMQY3LRV2aDTS   \n",
       "4  Every week we add new songs from up-and-coming...  7FoKftIMWTsQSNYcOnKZlu   \n",
       "\n",
       "                        name  no_tracks  \n",
       "0                Coffeehouse        477  \n",
       "1  Starbucks Coffeehouse Pop        411  \n",
       "2         Starbucks Acoustic        139  \n",
       "3             Starbucks Jazz        270  \n",
       "4        Starbucks Discovery         36  "
      ]
     },
     "execution_count": 25,
     "metadata": {},
     "output_type": "execute_result"
    }
   ],
   "source": [
    "playlists.head()"
   ]
  },
  {
   "cell_type": "code",
   "execution_count": 26,
   "metadata": {},
   "outputs": [],
   "source": [
    "playlists.to_csv('playlists3.csv')"
   ]
  },
  {
   "cell_type": "code",
   "execution_count": null,
   "metadata": {},
   "outputs": [],
   "source": []
  }
 ],
 "metadata": {
  "kernelspec": {
   "display_name": "Python 3",
   "language": "python",
   "name": "python3"
  },
  "language_info": {
   "codemirror_mode": {
    "name": "ipython",
    "version": 3
   },
   "file_extension": ".py",
   "mimetype": "text/x-python",
   "name": "python",
   "nbconvert_exporter": "python",
   "pygments_lexer": "ipython3",
   "version": "3.8.3"
  }
 },
 "nbformat": 4,
 "nbformat_minor": 4
}
