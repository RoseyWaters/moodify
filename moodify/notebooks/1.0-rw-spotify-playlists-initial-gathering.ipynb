{
 "cells": [
  {
   "cell_type": "code",
   "execution_count": 1,
   "metadata": {},
   "outputs": [],
   "source": [
    "# imports\n",
    "import spotipy\n",
    "import spotipy.util as util\n",
    "import types\n",
    "import requests\n",
    "import json\n",
    "import csv"
   ]
  },
  {
   "cell_type": "code",
   "execution_count": 2,
   "metadata": {},
   "outputs": [],
   "source": [
    "# authorization\n",
    "token = util.prompt_for_user_token(\n",
    "        username=\"rosey.waters@gmail.com\",\n",
    "        scope=\"user-read-recently-played user-read-private user-top-read user-read-currently-playing\",\n",
    "        client_id=\"e7b1f1096c82471d89d1db8030b82dd9\",\n",
    "        client_secret=\"5e635c87338b4729bc9a8bd007c2cbe1\",\n",
    "        redirect_uri=\"https://www.google.it/\")\n",
    "\n",
    "spotify = spotipy.Spotify(auth=token)"
   ]
  },
  {
   "cell_type": "code",
   "execution_count": 3,
   "metadata": {},
   "outputs": [],
   "source": [
    "#This pulls the first 50 categories from the browse section of spotify, we'll use this information \n",
    "#to find the category ids, which will then pull playlist ids. \n",
    "cateogies_url = \"https://api.spotify.com/v1/browse/categories\"\n",
    "def get_category_id(self, limit=1):\n",
    "    return self._get(cateogies_url, limit=limit)\n",
    "\n",
    "spotify.get_category_id = types.MethodType(get_category_id, spotify)\n",
    "\n",
    "categories = spotify.get_category_id(limit=50)\n",
    "\n",
    "data = json.dumps(categories, sort_keys=True, indent=2)\n",
    "\n",
    "data_parse = json.loads(data)\n",
    "\n",
    "categories = data_parse['categories']"
   ]
  },
  {
   "cell_type": "code",
   "execution_count": 4,
   "metadata": {},
   "outputs": [
    {
     "name": "stdout",
     "output_type": "stream",
     "text": [
      "dict_keys(['href', 'items', 'limit', 'next', 'offset', 'previous', 'total'])\n",
      "{'href': 'https://api.spotify.com/v1/browse/categories/toplists', 'icons': [{'height': 275, 'url': 'https://t.scdn.co/media/derived/toplists_11160599e6a04ac5d6f2757f5511778f_0_0_275_275.jpg', 'width': 275}], 'id': 'toplists', 'name': 'Top Lists'}\n"
     ]
    }
   ],
   "source": [
    "#get the category keys\n",
    "cat_keys = categories.keys()\n",
    "print(cat_keys)\n",
    "\n",
    "#from messing around with the data, I know that the important features will all be found in the \"items\" dictionary\n",
    "print(categories['items'][0])"
   ]
  },
  {
   "cell_type": "code",
   "execution_count": 5,
   "metadata": {},
   "outputs": [
    {
     "name": "stdout",
     "output_type": "stream",
     "text": [
      "['toplists', '2020', 'holidays', 'hiphop', 'pop', 'country', 'workout', 'at_home', 'rock', 'latin', 'mood', 'rnb', 'jre_podcast', 'gaming', 'shows_with_music', 'focus', 'edm_dance', 'blackhistorymonth', 'chill', 'indie_alt', 'inspirational', 'decades', 'instrumental', 'alternative', 'wellness', 'in_the_car', 'pride', 'party', 'sleep', 'classical', 'jazz', 'roots', 'soul', 'sessions', 'dinner', 'romance', 'kpop', 'punk', 'regional_mexican', 'popculture', 'blues', 'arab', 'desi', 'radar', 'anime', 'thirdparty', 'afro', 'comedy', 'metal', 'caribbean']\n"
     ]
    }
   ],
   "source": [
    "#Creating a list of category ids\n",
    "cat_ids = []\n",
    "\n",
    "for i in categories['items']:\n",
    "    cat_ids.append(i['id'])\n",
    "    \n",
    "print(cat_ids)"
   ]
  },
  {
   "cell_type": "code",
   "execution_count": 8,
   "metadata": {},
   "outputs": [],
   "source": [
    "#Now there's a list of category ids, we can move on to getting playlists from them\n",
    "playlist_info = []\n",
    "for i in cat_ids:\n",
    "    cat_url = 'https://api.spotify.com/v1/browse/categories/' + i + '/playlists'\n",
    "    def get_playlist_ids(self, limit=1):\n",
    "        return self._get(cat_url, limit=limit)\n",
    "\n",
    "    spotify.get_playlist_ids = types.MethodType(get_playlist_ids, spotify)\n",
    "\n",
    "    playlist_ids = spotify.get_playlist_ids(limit=50)\n",
    "\n",
    "    data = json.dumps(playlist_ids, sort_keys=True, indent=2)\n",
    "\n",
    "    data_parse = json.loads(data)\n",
    "\n",
    "    playlists = data_parse['playlists']\n",
    "    \n",
    "    #let's get the playlist data now\n",
    "    for i in playlists['items']:\n",
    "        play = []\n",
    "        play.append(i['description'])\n",
    "        play.append(i['id'])\n",
    "        play.append(i['name'])\n",
    "        play.append(i['tracks']['total'])\n",
    "        playlist_info.append(play)"
   ]
  },
  {
   "cell_type": "code",
   "execution_count": 11,
   "metadata": {},
   "outputs": [
    {
     "name": "stdout",
     "output_type": "stream",
     "text": [
      "Total number of playlists gathered: 1807\n"
     ]
    }
   ],
   "source": [
    "print('Total number of playlists gathered: ' + str(len(playlist_info)))"
   ]
  },
  {
   "cell_type": "code",
   "execution_count": null,
   "metadata": {},
   "outputs": [],
   "source": []
  }
 ],
 "metadata": {
  "kernelspec": {
   "display_name": "Python 3",
   "language": "python",
   "name": "python3"
  },
  "language_info": {
   "codemirror_mode": {
    "name": "ipython",
    "version": 3
   },
   "file_extension": ".py",
   "mimetype": "text/x-python",
   "name": "python",
   "nbconvert_exporter": "python",
   "pygments_lexer": "ipython3",
   "version": "3.8.3"
  }
 },
 "nbformat": 4,
 "nbformat_minor": 4
}
