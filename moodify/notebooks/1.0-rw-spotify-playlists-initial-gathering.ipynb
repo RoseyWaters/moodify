{
 "cells": [
  {
   "cell_type": "code",
   "execution_count": 12,
   "metadata": {},
   "outputs": [],
   "source": [
    "# imports\n",
    "import spotipy\n",
    "import spotipy.util as util\n",
    "import types\n",
    "import requests\n",
    "import json\n",
    "import csv\n",
    "import pandas as pd"
   ]
  },
  {
   "cell_type": "code",
   "execution_count": 2,
   "metadata": {},
   "outputs": [],
   "source": [
    "# authorization\n",
    "token = util.prompt_for_user_token(\n",
    "        username=\"rosey.waters@gmail.com\",\n",
    "        scope=\"user-read-recently-played user-read-private user-top-read user-read-currently-playing\",\n",
    "        client_id=\"e7b1f1096c82471d89d1db8030b82dd9\",\n",
    "        client_secret=\"5e635c87338b4729bc9a8bd007c2cbe1\",\n",
    "        redirect_uri=\"https://www.google.it/\")\n",
    "\n",
    "spotify = spotipy.Spotify(auth=token)"
   ]
  },
  {
   "cell_type": "code",
   "execution_count": 3,
   "metadata": {},
   "outputs": [],
   "source": [
    "#This pulls the first 50 categories from the browse section of spotify, we'll use this information \n",
    "#to find the category ids, which will then pull playlist ids. \n",
    "cateogies_url = \"https://api.spotify.com/v1/browse/categories\"\n",
    "def get_category_id(self, limit=1):\n",
    "    return self._get(cateogies_url, limit=limit)\n",
    "\n",
    "spotify.get_category_id = types.MethodType(get_category_id, spotify)\n",
    "\n",
    "categories = spotify.get_category_id(limit=50)\n",
    "\n",
    "data = json.dumps(categories, sort_keys=True, indent=2)\n",
    "\n",
    "data_parse = json.loads(data)\n",
    "\n",
    "categories = data_parse['categories']"
   ]
  },
  {
   "cell_type": "code",
   "execution_count": 4,
   "metadata": {},
   "outputs": [
    {
     "name": "stdout",
     "output_type": "stream",
     "text": [
      "dict_keys(['href', 'items', 'limit', 'next', 'offset', 'previous', 'total'])\n",
      "{'href': 'https://api.spotify.com/v1/browse/categories/toplists', 'icons': [{'height': 275, 'url': 'https://t.scdn.co/media/derived/toplists_11160599e6a04ac5d6f2757f5511778f_0_0_275_275.jpg', 'width': 275}], 'id': 'toplists', 'name': 'Top Lists'}\n"
     ]
    }
   ],
   "source": [
    "#get the category keys\n",
    "cat_keys = categories.keys()\n",
    "print(cat_keys)\n",
    "\n",
    "#from messing around with the data, I know that the important features will all be found in the \"items\" dictionary\n",
    "print(categories['items'][0])"
   ]
  },
  {
   "cell_type": "code",
   "execution_count": 5,
   "metadata": {},
   "outputs": [
    {
     "name": "stdout",
     "output_type": "stream",
     "text": [
      "['toplists', '2020', 'holidays', 'hiphop', 'pop', 'country', 'workout', 'at_home', 'rock', 'latin', 'mood', 'rnb', 'jre_podcast', 'gaming', 'shows_with_music', 'focus', 'edm_dance', 'blackhistorymonth', 'chill', 'indie_alt', 'inspirational', 'decades', 'instrumental', 'alternative', 'wellness', 'in_the_car', 'pride', 'party', 'sleep', 'classical', 'jazz', 'roots', 'soul', 'sessions', 'dinner', 'romance', 'kpop', 'punk', 'regional_mexican', 'popculture', 'blues', 'arab', 'desi', 'radar', 'anime', 'thirdparty', 'afro', 'comedy', 'metal', 'caribbean']\n"
     ]
    }
   ],
   "source": [
    "#Creating a list of category ids\n",
    "cat_ids = []\n",
    "\n",
    "for i in categories['items']:\n",
    "    cat_ids.append(i['id'])\n",
    "    \n",
    "print(cat_ids)"
   ]
  },
  {
   "cell_type": "code",
   "execution_count": 22,
   "metadata": {},
   "outputs": [],
   "source": [
    "#Now there's a list of category ids, we can move on to getting playlists from them\n",
    "playlist_info = []\n",
    "for i in cat_ids:\n",
    "    cat_url = 'https://api.spotify.com/v1/browse/categories/' + i + '/playlists'\n",
    "    def get_playlist_ids(self, limit=1):\n",
    "        return self._get(cat_url, limit=limit)\n",
    "\n",
    "    spotify.get_playlist_ids = types.MethodType(get_playlist_ids, spotify)\n",
    "\n",
    "    playlist_ids = spotify.get_playlist_ids(limit=50)\n",
    "\n",
    "    data = json.dumps(playlist_ids, sort_keys=True, indent=2)\n",
    "\n",
    "    data_parse = json.loads(data)\n",
    "\n",
    "    playlists = data_parse['playlists']\n",
    "    \n",
    "    #let's get the playlist data now\n",
    "    for i in playlists['items']:\n",
    "        play = []\n",
    "        play.append(i['description'])\n",
    "        play.append(i['id'])\n",
    "        play.append(i['name'])\n",
    "        play.append(i['tracks']['total'])\n",
    "        playlist_info.append(play)"
   ]
  },
  {
   "cell_type": "code",
   "execution_count": 23,
   "metadata": {},
   "outputs": [
    {
     "name": "stdout",
     "output_type": "stream",
     "text": [
      "Total number of playlists gathered: 1835\n"
     ]
    }
   ],
   "source": [
    "print('Total number of playlists gathered: ' + str(len(playlist_info)))"
   ]
  },
  {
   "cell_type": "code",
   "execution_count": 26,
   "metadata": {},
   "outputs": [],
   "source": [
    "playlists = pd.DataFrame(data=playlist_info, columns = ['description','spotify_id','name','no_tracks']) "
   ]
  },
  {
   "cell_type": "code",
   "execution_count": 27,
   "metadata": {},
   "outputs": [
    {
     "data": {
      "text/html": [
       "<div>\n",
       "<style scoped>\n",
       "    .dataframe tbody tr th:only-of-type {\n",
       "        vertical-align: middle;\n",
       "    }\n",
       "\n",
       "    .dataframe tbody tr th {\n",
       "        vertical-align: top;\n",
       "    }\n",
       "\n",
       "    .dataframe thead th {\n",
       "        text-align: right;\n",
       "    }\n",
       "</style>\n",
       "<table border=\"1\" class=\"dataframe\">\n",
       "  <thead>\n",
       "    <tr style=\"text-align: right;\">\n",
       "      <th></th>\n",
       "      <th>description</th>\n",
       "      <th>spotify_id</th>\n",
       "      <th>name</th>\n",
       "      <th>no_tracks</th>\n",
       "    </tr>\n",
       "  </thead>\n",
       "  <tbody>\n",
       "    <tr>\n",
       "      <th>0</th>\n",
       "      <td>Justin Bieber is on top of the Hottest 50!</td>\n",
       "      <td>37i9dQZF1DXcBWIGoYBM5M</td>\n",
       "      <td>Today's Top Hits</td>\n",
       "      <td>50</td>\n",
       "    </tr>\n",
       "    <tr>\n",
       "      <th>1</th>\n",
       "      <td>Music from Lil Durk, Playboi Carti and Kid Cudi.</td>\n",
       "      <td>37i9dQZF1DX0XUsuxWHRQd</td>\n",
       "      <td>RapCaviar</td>\n",
       "      <td>50</td>\n",
       "    </tr>\n",
       "    <tr>\n",
       "      <th>2</th>\n",
       "      <td>The newest music from Foo Fighters along with ...</td>\n",
       "      <td>37i9dQZF1DXcF6B6QPhFDv</td>\n",
       "      <td>Rock This</td>\n",
       "      <td>50</td>\n",
       "    </tr>\n",
       "    <tr>\n",
       "      <th>3</th>\n",
       "      <td>The world's biggest dance hits. Music from Ima...</td>\n",
       "      <td>37i9dQZF1DX4dyzvuaRJ0n</td>\n",
       "      <td>mint</td>\n",
       "      <td>79</td>\n",
       "    </tr>\n",
       "    <tr>\n",
       "      <th>4</th>\n",
       "      <td>Today's top country hits of the week, worldwid...</td>\n",
       "      <td>37i9dQZF1DX1lVhptIYRda</td>\n",
       "      <td>Hot Country</td>\n",
       "      <td>53</td>\n",
       "    </tr>\n",
       "  </tbody>\n",
       "</table>\n",
       "</div>"
      ],
      "text/plain": [
       "                                         description              spotify_id  \\\n",
       "0         Justin Bieber is on top of the Hottest 50!  37i9dQZF1DXcBWIGoYBM5M   \n",
       "1   Music from Lil Durk, Playboi Carti and Kid Cudi.  37i9dQZF1DX0XUsuxWHRQd   \n",
       "2  The newest music from Foo Fighters along with ...  37i9dQZF1DXcF6B6QPhFDv   \n",
       "3  The world's biggest dance hits. Music from Ima...  37i9dQZF1DX4dyzvuaRJ0n   \n",
       "4  Today's top country hits of the week, worldwid...  37i9dQZF1DX1lVhptIYRda   \n",
       "\n",
       "               name  no_tracks  \n",
       "0  Today's Top Hits         50  \n",
       "1         RapCaviar         50  \n",
       "2         Rock This         50  \n",
       "3              mint         79  \n",
       "4       Hot Country         53  "
      ]
     },
     "execution_count": 27,
     "metadata": {},
     "output_type": "execute_result"
    }
   ],
   "source": [
    "playlists.head()"
   ]
  },
  {
   "cell_type": "code",
   "execution_count": 28,
   "metadata": {},
   "outputs": [],
   "source": [
    "playlists.to_csv('playlists.csv')"
   ]
  },
  {
   "cell_type": "code",
   "execution_count": null,
   "metadata": {},
   "outputs": [],
   "source": []
  }
 ],
 "metadata": {
  "kernelspec": {
   "display_name": "Python 3",
   "language": "python",
   "name": "python3"
  },
  "language_info": {
   "codemirror_mode": {
    "name": "ipython",
    "version": 3
   },
   "file_extension": ".py",
   "mimetype": "text/x-python",
   "name": "python",
   "nbconvert_exporter": "python",
   "pygments_lexer": "ipython3",
   "version": "3.8.3"
  }
 },
 "nbformat": 4,
 "nbformat_minor": 4
}
