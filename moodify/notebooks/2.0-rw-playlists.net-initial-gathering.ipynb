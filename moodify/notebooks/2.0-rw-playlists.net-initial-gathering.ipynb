{
 "cells": [
  {
   "cell_type": "markdown",
   "metadata": {},
   "source": [
    "Since the purpose of this tool is to look at User Made playlists, I wanted to grab playlists that are user made. Playlists.net has a database of user made playlists. I scraped their site for uri's. I kept it simple, if there was an error, I simply ignored the playlist rather than try and figure out why it wasn't working. Since this was just to grab data, it seemed better to grab data and move on, rather than spend a good deal of time trying to make it work. "
   ]
  },
  {
   "cell_type": "code",
   "execution_count": 73,
   "metadata": {},
   "outputs": [],
   "source": [
    "# imports\n",
    "import requests\n",
    "from bs4 import BeautifulSoup\n",
    "import json\n",
    "import csv\n",
    "import pandas as pd\n",
    "import spotipy\n",
    "import spotipy.util as util\n",
    "import types"
   ]
  },
  {
   "cell_type": "code",
   "execution_count": 69,
   "metadata": {},
   "outputs": [
    {
     "name": "stdout",
     "output_type": "stream",
     "text": [
      "6BZDOi5mBuZvSySrNXobzS\n"
     ]
    }
   ],
   "source": [
    "url = 'https://playlists.net/annual-charts'\n",
    "\n",
    "response = requests.get(url)\n",
    "html = response.text\n",
    "soup = BeautifulSoup(html, \"html.parser\")\n",
    "\n",
    "links = soup.findAll('td', attrs={'class': 'text-center'})\n",
    "\n",
    "listing = []\n",
    "for link in links:\n",
    "    try:\n",
    "        link_split = str(link.a).split('href=\"')[1].split('\">')[0]\n",
    "        create = 'https://playlists.net' + link_split\n",
    "        listing.append(create)\n",
    "    except:\n",
    "        None\n",
    "\n",
    "spotify_list = []\n",
    "for url in listing:\n",
    "    response = requests.get(url)\n",
    "    html = response.text\n",
    "    soup = BeautifulSoup(html, \"html.parser\")\n",
    "    \n",
    "    try:\n",
    "        spotify = soup.findAll('div', attrs={'class':'pl-playlist-spotify-buttons'})\n",
    "        spotify_uri = str(spotify).split('playlist:')[1].split('\">')[0]\n",
    "        spotify_list.append(spotify_uri)\n",
    "    except:\n",
    "        None"
   ]
  },
  {
   "cell_type": "code",
   "execution_count": 70,
   "metadata": {},
   "outputs": [
    {
     "name": "stdout",
     "output_type": "stream",
     "text": [
      "['3F8nzauyKh3YMqkx7nUO3l', '2FNVMVvyDvEumO8mbkHBxK', '3NlxYlzZ2Mb4mLVryphp4B', '020Zx6tGhxrMxW2E74VzG9', '3P6iaNsrF5cR8Rjpl2xPDE', '5137IgxwxPv1dXfsQkMMuE', '4uXqD5E8x8R8Ov8AKwVxhG', '6kXk9fAy9JCq8N1gwrbxDy', '4cs9OsFKYQ0r7wwd5hmjpc', '04fzbxkoRZW0jDbu7lkIwf', '2YhDK5qfwiP1dzmVZacFSU', '61RMzseNKapGbR6SK7uMsC', '7hJTW7aju8HizgmsY5ii5a', '77ctg4oGx88es5IUMGwfTJ', '5aJKNPKeumTZaezIXSDGwu', '6p5UpYDojTZ2poywfmvbqX', '0msFvwkXufQPjj4vnhoJps', '7m3aaTxCjuq7e3RXMl5Q9L', '41DyiTHHrmCRj3zJ4d4tjy', '428zCMVCQGMmbCCYawqsBV', '5g3AJrSTgmzsiVfs5N4nHp', '5WoEmxyYczjCm1CiwD1k2r', '2OFfgjs6kj0eA6FNayhAAJ', '2ofdCLICHquwOTgPJfZsZO', '0ETvdb3FNttb9UPFMcaS31', '7oicbXX0l8guqxjH5qij1q', '0tsu9axF3CsYD2ADxiRXK2', '2gMjVOInaVSLV40KGY5vEV', '1WzqNndeANO23OMnIrwTk5', '0dyiaySMt75rD8XERaDvbV', '6RYbFVAiSJ14OudXtpHr4I', '5Rrf7mqN8uus2AaQQQNdc1', '5gTfk1u2HwgwbwwcBibwRc', '7KNDpWQy3qMthJWXNDQutM', '4kae6PxGzDGVnI73KCKMrI', '0qQ0EZQGEHddZafsSf6JtX', '0i0N9QNaZao3RBv0t4g5uW', '6BYF7TZIFGQgi7OEHFExjg', '0V66wMHtVXUk16fI9YlR7v', '43Pmh0BcvrSD306TCDHrkg', '3qiq3yYnhuatiDVUR2KCJi', '2eKUEA5caMDjk47oVpiKG5', '4Xg0lhPXJKXoWuRGHg3gnu', '0soHk3IzejVWpgJZ49SiDy', '1w4ewZUfzwa8eyWkQAf8WY', '3irhbUVY7gBJkdkjCclBgL', '35erzhDFfzMI71apx6gqHG', '2Z9ZlgNyEX4zuAxhf4NMUN', '3l1e5Kg8W8OSYpDW6ttXnx', '1MKU4cb0cT9QZRcf6rv9Lv', '3cdTSYFY95590SiRSlTlb7', '1CRBNj2vjeZZMmqkJosUSm', '6RyDqTDP6eYO67HfWF9434', '4RdjoL1XI4aYRJCZCGrGBc', '37XUxTLhakbIObOv6MvHfp', '2caUCKVoyk9MO5zXITv4V0', '3iYJyCd11vT6dT3eFiR2Km', '0ivFCkRwEuHpfWKHYLa556', '25ZrpkBNT33vNB7iAK10oW', '2c884gsWGvFAiMeHanq5Jr', '2TmsjQkzycIOXcZkLRtBiM', '39ZTPVHM8VrSYuEanqhDsX', '7gMRIq35AB9N979kjLtNvu', '6qJU8PNmymC5O63mvxvZs7', '0Qw0vqwghJL8Ia5Wi6qbyW', '1mnY1BVBAq7ZmVg7X5BVDJ', '64um0QX3dSmuc0c54UMbj8', '1vTNM6GCLA2x7gyqPL37cP', '5f1Y8uXwxadIeAsNuDbtoy', '0nb98IUQXzL0BPw99g4Ddt', '2CvXcigENxAaqy12lWJq97', '2mjg8f0xJnHgjWgLcTZJNx', '7ktTPYKhn6YQmB3RifUlAO', '6BZDOi5mBuZvSySrNXobzS']\n"
     ]
    }
   ],
   "source": [
    "print(spotify_list)"
   ]
  },
  {
   "cell_type": "code",
   "execution_count": 74,
   "metadata": {},
   "outputs": [],
   "source": [
    "# authorization\n",
    "token = util.prompt_for_user_token(\n",
    "        username=\"rosey.waters@gmail.com\",\n",
    "        scope=\"user-read-recently-played user-read-private user-top-read user-read-currently-playing\",\n",
    "        client_id=\"e7b1f1096c82471d89d1db8030b82dd9\",\n",
    "        client_secret=\"5e635c87338b4729bc9a8bd007c2cbe1\",\n",
    "        redirect_uri=\"https://www.google.it/\")\n",
    "\n",
    "spotify = spotipy.Spotify(auth=token)"
   ]
  },
  {
   "cell_type": "code",
   "execution_count": 86,
   "metadata": {},
   "outputs": [],
   "source": [
    "total = []\n",
    "for i in spotify_list:\n",
    "    playlist = 'https://api.spotify.com/v1/playlists/' + i\n",
    "    \n",
    "    try:\n",
    "        def get_playlist(self, limit=1):\n",
    "            return self._get(playlist, limit=limit)\n",
    "\n",
    "        spotify.get_playlist = types.MethodType(get_playlist, spotify)\n",
    "\n",
    "        playlist = spotify.get_playlist(limit=50)\n",
    "\n",
    "        data = json.dumps(playlist, sort_keys=True, indent=2)\n",
    "\n",
    "        data_parse = json.loads(data)\n",
    "\n",
    "        description = data_parse['description']\n",
    "        uri = data_parse['id']\n",
    "        title = data_parse['name']\n",
    "        tracks = data_parse['tracks']['total']\n",
    "        \n",
    "        lists = [description, uri, title, tracks]\n",
    "        total.append(lists)\n",
    "    except:\n",
    "        None\n",
    "        "
   ]
  },
  {
   "cell_type": "code",
   "execution_count": 87,
   "metadata": {},
   "outputs": [],
   "source": [
    "playlists = pd.DataFrame(data=total, columns = ['description','spotify_id','name','no_tracks']) "
   ]
  },
  {
   "cell_type": "code",
   "execution_count": 88,
   "metadata": {},
   "outputs": [
    {
     "data": {
      "text/html": [
       "<div>\n",
       "<style scoped>\n",
       "    .dataframe tbody tr th:only-of-type {\n",
       "        vertical-align: middle;\n",
       "    }\n",
       "\n",
       "    .dataframe tbody tr th {\n",
       "        vertical-align: top;\n",
       "    }\n",
       "\n",
       "    .dataframe thead th {\n",
       "        text-align: right;\n",
       "    }\n",
       "</style>\n",
       "<table border=\"1\" class=\"dataframe\">\n",
       "  <thead>\n",
       "    <tr style=\"text-align: right;\">\n",
       "      <th></th>\n",
       "      <th>description</th>\n",
       "      <th>spotify_id</th>\n",
       "      <th>name</th>\n",
       "      <th>no_tracks</th>\n",
       "    </tr>\n",
       "  </thead>\n",
       "  <tbody>\n",
       "    <tr>\n",
       "      <th>0</th>\n",
       "      <td>Ultimate list of head-boppers.  - Submit songs...</td>\n",
       "      <td>3F8nzauyKh3YMqkx7nUO3l</td>\n",
       "      <td>The Very Best You Haven't Heard About</td>\n",
       "      <td>392</td>\n",
       "    </tr>\n",
       "    <tr>\n",
       "      <th>1</th>\n",
       "      <td></td>\n",
       "      <td>2FNVMVvyDvEumO8mbkHBxK</td>\n",
       "      <td>Pitchfork 100 best tracks 2015 - detOkända.nu</td>\n",
       "      <td>92</td>\n",
       "    </tr>\n",
       "    <tr>\n",
       "      <th>2</th>\n",
       "      <td>Buzz Tracks TOP 100 for 2015</td>\n",
       "      <td>3NlxYlzZ2Mb4mLVryphp4B</td>\n",
       "      <td>2015 - The 100</td>\n",
       "      <td>101</td>\n",
       "    </tr>\n",
       "    <tr>\n",
       "      <th>3</th>\n",
       "      <td></td>\n",
       "      <td>020Zx6tGhxrMxW2E74VzG9</td>\n",
       "      <td>Not Your Average Christmas</td>\n",
       "      <td>41</td>\n",
       "    </tr>\n",
       "    <tr>\n",
       "      <th>4</th>\n",
       "      <td></td>\n",
       "      <td>3P6iaNsrF5cR8Rjpl2xPDE</td>\n",
       "      <td>100 Best New Artist 2015</td>\n",
       "      <td>105</td>\n",
       "    </tr>\n",
       "  </tbody>\n",
       "</table>\n",
       "</div>"
      ],
      "text/plain": [
       "                                         description              spotify_id  \\\n",
       "0  Ultimate list of head-boppers.  - Submit songs...  3F8nzauyKh3YMqkx7nUO3l   \n",
       "1                                                     2FNVMVvyDvEumO8mbkHBxK   \n",
       "2                       Buzz Tracks TOP 100 for 2015  3NlxYlzZ2Mb4mLVryphp4B   \n",
       "3                                                     020Zx6tGhxrMxW2E74VzG9   \n",
       "4                                                     3P6iaNsrF5cR8Rjpl2xPDE   \n",
       "\n",
       "                                            name  no_tracks  \n",
       "0          The Very Best You Haven't Heard About        392  \n",
       "1  Pitchfork 100 best tracks 2015 - detOkända.nu         92  \n",
       "2                                 2015 - The 100        101  \n",
       "3                     Not Your Average Christmas         41  \n",
       "4                       100 Best New Artist 2015        105  "
      ]
     },
     "execution_count": 88,
     "metadata": {},
     "output_type": "execute_result"
    }
   ],
   "source": [
    "playlists.head()"
   ]
  },
  {
   "cell_type": "code",
   "execution_count": 89,
   "metadata": {},
   "outputs": [],
   "source": [
    "playlists.to_csv('playlists2.csv')"
   ]
  }
 ],
 "metadata": {
  "kernelspec": {
   "display_name": "Python 3",
   "language": "python",
   "name": "python3"
  },
  "language_info": {
   "codemirror_mode": {
    "name": "ipython",
    "version": 3
   },
   "file_extension": ".py",
   "mimetype": "text/x-python",
   "name": "python",
   "nbconvert_exporter": "python",
   "pygments_lexer": "ipython3",
   "version": "3.8.3"
  }
 },
 "nbformat": 4,
 "nbformat_minor": 4
}
